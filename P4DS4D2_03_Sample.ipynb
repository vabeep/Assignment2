{
  "nbformat": 4,
  "nbformat_minor": 0,
  "metadata": {
    "kernelspec": {
      "display_name": "Python 3",
      "language": "python",
      "name": "python3"
    },
    "language_info": {
      "codemirror_mode": {
        "name": "ipython",
        "version": 3
      },
      "file_extension": ".py",
      "mimetype": "text/x-python",
      "name": "python",
      "nbconvert_exporter": "python",
      "pygments_lexer": "ipython3",
      "version": "3.8.3"
    },
    "colab": {
      "name": "P4DS4D2_03_Sample.ipynb",
      "provenance": [],
      "include_colab_link": true
    }
  },
  "cells": [
    {
      "cell_type": "markdown",
      "metadata": {
        "id": "view-in-github",
        "colab_type": "text"
      },
      "source": [
        "<a href=\"https://colab.research.google.com/github/vabeep/Assignment2/blob/master/P4DS4D2_03_Sample.ipynb\" target=\"_parent\"><img src=\"https://colab.research.google.com/assets/colab-badge.svg\" alt=\"Open In Colab\"/></a>"
      ]
    },
    {
      "cell_type": "markdown",
      "metadata": {
        "id": "A1ixmiWCRN2M"
      },
      "source": [
        "# Downloading Datasets and Example Code"
      ]
    },
    {
      "cell_type": "markdown",
      "metadata": {
        "id": "0Mb0T2LURN2N"
      },
      "source": [
        "## Defining the Code Repository"
      ]
    },
    {
      "cell_type": "markdown",
      "metadata": {
        "id": "A9Sjf364RN2O"
      },
      "source": [
        "### Adding Notebook Content"
      ]
    },
    {
      "cell_type": "code",
      "metadata": {
        "id": "bLNOBoMeRN2Q",
        "outputId": "30e328e9-7d54-48b0-9cc2-0be6c6e637a5",
        "colab": {
          "base_uri": "https://localhost:8080/",
          "height": 34
        }
      },
      "source": [
        "print(\"python is very cool\")"
      ],
      "execution_count": 1,
      "outputs": [
        {
          "output_type": "stream",
          "text": [
            "python is very cool\n"
          ],
          "name": "stdout"
        }
      ]
    },
    {
      "cell_type": "code",
      "metadata": {
        "id": "Tnd-sS8NRN2X"
      },
      "source": [
        ""
      ],
      "execution_count": null,
      "outputs": []
    }
  ]
}